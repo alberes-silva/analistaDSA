{
 "cells": [
  {
   "cell_type": "code",
   "execution_count": 1,
   "id": "23bfba59",
   "metadata": {},
   "outputs": [
    {
     "name": "stdout",
     "output_type": "stream",
     "text": [
      "Bem-vindo ao calculador de Área de paralelograma\n"
     ]
    }
   ],
   "source": [
    "print(\"Bem-vindo ao calculador de Área de paralelograma\")"
   ]
  },
  {
   "cell_type": "code",
   "execution_count": 2,
   "id": "dd95ce7d",
   "metadata": {},
   "outputs": [
    {
     "name": "stdout",
     "output_type": "stream",
     "text": [
      "Insira o comprimento da base: 15\n"
     ]
    }
   ],
   "source": [
    "base = float(input(\"Insira o comprimento da base: \"))"
   ]
  },
  {
   "cell_type": "code",
   "execution_count": 3,
   "id": "c520444b",
   "metadata": {},
   "outputs": [
    {
     "name": "stdout",
     "output_type": "stream",
     "text": [
      "Unsira a altura: 20\n"
     ]
    }
   ],
   "source": [
    "altura = float(input(\"Unsira a altura: \"))"
   ]
  },
  {
   "cell_type": "code",
   "execution_count": 4,
   "id": "9724fdb8",
   "metadata": {},
   "outputs": [],
   "source": [
    "area = base * altura"
   ]
  },
  {
   "cell_type": "code",
   "execution_count": 5,
   "id": "32d7dedb",
   "metadata": {},
   "outputs": [
    {
     "name": "stdout",
     "output_type": "stream",
     "text": [
      "A área do paralelograma é:  300.0\n"
     ]
    }
   ],
   "source": [
    "print(\"A área do paralelograma é: \", area)"
   ]
  },
  {
   "cell_type": "code",
   "execution_count": 13,
   "id": "745a4aea",
   "metadata": {},
   "outputs": [
    {
     "name": "stdout",
     "output_type": "stream",
     "text": [
      "Bem-vindo a calculadora\n",
      "Escolha a operação desejada: 1-Soma 2-Subtração 3-Multiplicação 4-Divisão4\n",
      "Escolha o primeiro número: 8\n",
      "Escolha o segundo número: 2\n",
      "O resultado é:  4.0\n"
     ]
    }
   ],
   "source": [
    "print(\"Bem-vindo a calculadora\")\n",
    "\n",
    "operacao = int(input(\"Escolha a operação desejada: 1-Soma 2-Subtração 3-Multiplicação 4-Divisão\"))\n",
    "num1 = float(input(\"Escolha o primeiro número: \"))\n",
    "num2 = float(input(\"Escolha o segundo número: \"))\n",
    "\n",
    "if operacao == 1:\n",
    "        resultado = num1 + num2\n",
    "elif(operacao ==2):\n",
    "        resultado = num1-num2\n",
    "elif(operacao == 3):\n",
    "        resultado = num1 * num2\n",
    "elif(operacao == 4):\n",
    "        resultado = num1 / num2\n",
    "else:\n",
    "        (\"Valor inválido\")\n",
    "\n",
    "print(\"O resultado é: \", resultado)"
   ]
  },
  {
   "cell_type": "code",
   "execution_count": 22,
   "id": "62c82a9c",
   "metadata": {},
   "outputs": [
    {
     "name": "stdout",
     "output_type": "stream",
     "text": [
      "[0, 1, 3, 3, 4, 6, 8, 10, 11, 12, 16, 17, 19, 21, 29, 30, 34, 39, 43, 56, 61, 67, 82]\n"
     ]
    }
   ],
   "source": [
    "lista = [6,3,8,3,10,19,4,1,0,61,30,16,17,82,29,34,43,21,11,39,56,67,12]\n",
    "\n",
    "def bubble_sort(arr):\n",
    "    \n",
    "    n = len(arr)\n",
    "    \n",
    "    for i in range(n):\n",
    "        \n",
    "        for j in range(0, n-i-1):\n",
    "            \n",
    "            if arr[j] > arr[j+1]:\n",
    "                \n",
    "                arr[j], arr[j+1] = arr[j+1], arr[j]\n",
    "                \n",
    "    return arr\n",
    "\n",
    "print(bubble_sort(lista))"
   ]
  },
  {
   "cell_type": "code",
   "execution_count": null,
   "id": "629fca4a",
   "metadata": {},
   "outputs": [],
   "source": []
  },
  {
   "cell_type": "code",
   "execution_count": null,
   "id": "5ef53e94",
   "metadata": {},
   "outputs": [],
   "source": []
  }
 ],
 "metadata": {
  "kernelspec": {
   "display_name": "Python 3 (ipykernel)",
   "language": "python",
   "name": "python3"
  },
  "language_info": {
   "codemirror_mode": {
    "name": "ipython",
    "version": 3
   },
   "file_extension": ".py",
   "mimetype": "text/x-python",
   "name": "python",
   "nbconvert_exporter": "python",
   "pygments_lexer": "ipython3",
   "version": "3.9.13"
  }
 },
 "nbformat": 4,
 "nbformat_minor": 5
}
