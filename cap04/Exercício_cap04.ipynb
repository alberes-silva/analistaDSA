{
 "cells": [
  {
   "cell_type": "markdown",
   "id": "7d5e356c",
   "metadata": {},
   "source": [
    "Exercício"
   ]
  },
  {
   "cell_type": "code",
   "execution_count": 3,
   "id": "0687d985",
   "metadata": {},
   "outputs": [
    {
     "name": "stdout",
     "output_type": "stream",
     "text": [
      "1\n",
      "2\n",
      "3\n",
      "4\n",
      "5\n",
      "6\n",
      "7\n",
      "8\n",
      "9\n"
     ]
    }
   ],
   "source": [
    "# Exercício 1 - Imprima na tela os números de 1 a 10. Use uma lista para armazenar os números.\n",
    "numero = list(range(1,10))\n",
    "\n",
    "for numeros in numero:\n",
    "    print(numeros)"
   ]
  },
  {
   "cell_type": "code",
   "execution_count": 5,
   "id": "d97a8d44",
   "metadata": {},
   "outputs": [
    {
     "name": "stdout",
     "output_type": "stream",
     "text": [
      "['Vermelho', 'Amarelo', 'Azul', 'Preto', 'Marrom']\n",
      "Obejto:  Vermelho\n",
      "Obejto:  Amarelo\n",
      "Obejto:  Azul\n",
      "Obejto:  Preto\n",
      "Obejto:  Marrom\n"
     ]
    }
   ],
   "source": [
    "# Exercício 2 - Crie uma lista de 5 objetos e imprima na tela\n",
    "lista1 = [\"Vermelho\", \"Amarelo\", \"Azul\", \"Preto\", \"Marrom\"]\n",
    "print(lista1)\n",
    "\n",
    "for lista in lista1:\n",
    "    print(\"Obejto: \", lista)"
   ]
  },
  {
   "cell_type": "code",
   "execution_count": 7,
   "id": "b4142267",
   "metadata": {},
   "outputs": [
    {
     "name": "stdout",
     "output_type": "stream",
     "text": [
      "Maria Gabriela\n"
     ]
    }
   ],
   "source": [
    "# Exercício 3 - Crie duas strings e concatene as duas em uma terceira string\n",
    "nome = \"Maria\"\n",
    "sobrenome = \"Gabriela\"\n",
    "\n",
    "nomeCompleto = nome + \" \" + sobrenome\n",
    "\n",
    "print(nomeCompleto)"
   ]
  },
  {
   "cell_type": "code",
   "execution_count": 24,
   "id": "52d5cc46",
   "metadata": {},
   "outputs": [
    {
     "name": "stdout",
     "output_type": "stream",
     "text": [
      "O número 4 se repete 3 vezes na tupla\n"
     ]
    }
   ],
   "source": [
    "# Exercício 4 - Crie uma tupla com os seguintes elementos: 1, 2, 2, 3, 4, 4, 4, 5 e depois utilize a função count do \n",
    "# objeto tupla para verificar quantas vezes o número 4 aparece na tupla\n",
    "\n",
    "elementos = (1,2,2,3,4,4,4,5)\n",
    "\n",
    "print(f\"O número 4 se repete {elementos.count(4)} vezes na tupla\")"
   ]
  },
  {
   "cell_type": "code",
   "execution_count": 25,
   "id": "490cf58f",
   "metadata": {},
   "outputs": [
    {
     "name": "stdout",
     "output_type": "stream",
     "text": [
      "{}\n"
     ]
    }
   ],
   "source": [
    "# Exercício 5 - Crie um dicionário vazio e imprima na tela\n",
    "dict = {}\n",
    "print(dict)"
   ]
  },
  {
   "cell_type": "code",
   "execution_count": 26,
   "id": "e9e75d57",
   "metadata": {},
   "outputs": [
    {
     "name": "stdout",
     "output_type": "stream",
     "text": [
      "{'Gabriela': 21, 'Maria': 30, 'Roberto': 58}\n"
     ]
    }
   ],
   "source": [
    "# Exercício 6 - Crie um dicionário com 3 chaves e 3 valores e imprima na tela\n",
    "dict1 = {\"Gabriela\": 21, \"Maria\": 30, \"Roberto\": 58}\n",
    "\n",
    "print(dict1)"
   ]
  },
  {
   "cell_type": "code",
   "execution_count": 30,
   "id": "8561d79b",
   "metadata": {},
   "outputs": [
    {
     "name": "stdout",
     "output_type": "stream",
     "text": [
      "{'Gabriela': 21, 'Maria': 30, 'Roberto': 58, 'José': 18}\n"
     ]
    }
   ],
   "source": [
    "# Exercício 7 - Adicione mais um elemento ao dicionário criado no exercício anterior e imprima na tela\n",
    "dict1[\"José\"] = 18\n",
    "print(dict1)"
   ]
  },
  {
   "cell_type": "code",
   "execution_count": 31,
   "id": "f1d07035",
   "metadata": {},
   "outputs": [
    {
     "name": "stdout",
     "output_type": "stream",
     "text": [
      "{'Fusca': 1980, 'Chevete': [1990, 1993], 'Kombi': [2005, 2018]}\n"
     ]
    }
   ],
   "source": [
    "# Exercício 8 - Crie um dicionário com 3 chaves e 3 valores. \n",
    "# Um dos valores deve ser uma lista de 2 elementos numéricos. \n",
    "# Imprima o dicionário na tela.\n",
    "\n",
    "dict2 = {\"Fusca\": 1980, \"Chevete\":[1990,1993],\"Kombi\":[2005,2018]}\n",
    "print(dict2)"
   ]
  },
  {
   "cell_type": "code",
   "execution_count": 32,
   "id": "38be04e9",
   "metadata": {},
   "outputs": [
    {
     "name": "stdout",
     "output_type": "stream",
     "text": [
      "['Python', ('PHP', 'Java'), {'Go': 2023, 'Javascript': 1991}, 20.8]\n"
     ]
    }
   ],
   "source": [
    "# Exercício 9 - Crie uma lista de 4 elementos. O primeiro elemento deve ser uma string, \n",
    "# o segundo uma tupla de 2 elementos, o terceiro um dcionário com 2 chaves e 2 valores e \n",
    "# o quarto elemento um valor do tipo float.\n",
    "# Imprima a lista.\n",
    "\n",
    "lista_elementos = [\"Python\", (\"PHP\", \"Java\"), {\"Go\": 2023, \"Javascript\": 1991}, 20.8]\n",
    "print(lista_elementos)"
   ]
  },
  {
   "cell_type": "code",
   "execution_count": 35,
   "id": "b8b955a7",
   "metadata": {},
   "outputs": [
    {
     "data": {
      "text/plain": [
       "'ientista de Dados '"
      ]
     },
     "execution_count": 35,
     "metadata": {},
     "output_type": "execute_result"
    }
   ],
   "source": [
    "# Exercício 10 - Considere a string abaixo. Imprima na tela apenas os caracteres da posição 1 a 18.\n",
    "frase = 'Cientista de Dados é o profissional mais sexy do século XXI'\n",
    "\n",
    "frase[1:19]"
   ]
  },
  {
   "cell_type": "markdown",
   "id": "976b78da",
   "metadata": {},
   "source": [
    "Fim"
   ]
  }
 ],
 "metadata": {
  "kernelspec": {
   "display_name": "Python 3 (ipykernel)",
   "language": "python",
   "name": "python3"
  },
  "language_info": {
   "codemirror_mode": {
    "name": "ipython",
    "version": 3
   },
   "file_extension": ".py",
   "mimetype": "text/x-python",
   "name": "python",
   "nbconvert_exporter": "python",
   "pygments_lexer": "ipython3",
   "version": "3.9.13"
  }
 },
 "nbformat": 4,
 "nbformat_minor": 5
}
