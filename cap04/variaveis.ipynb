{
 "cells": [
  {
   "cell_type": "code",
   "execution_count": 5,
   "id": "084b14b4",
   "metadata": {},
   "outputs": [],
   "source": [
    "# Atribuindo o valor 1 à variável var_teste\n",
    "var_teste = 1"
   ]
  },
  {
   "cell_type": "code",
   "execution_count": 6,
   "id": "e9a83bf4",
   "metadata": {},
   "outputs": [
    {
     "data": {
      "text/plain": [
       "1"
      ]
     },
     "execution_count": 6,
     "metadata": {},
     "output_type": "execute_result"
    }
   ],
   "source": [
    "# Imprimindo o valor da variável\n",
    "var_teste"
   ]
  },
  {
   "cell_type": "code",
   "execution_count": 7,
   "id": "46f07803",
   "metadata": {},
   "outputs": [
    {
     "name": "stdout",
     "output_type": "stream",
     "text": [
      "1\n"
     ]
    }
   ],
   "source": [
    "# Imprimindo o valor da variável\n",
    "print(var_teste)"
   ]
  },
  {
   "cell_type": "code",
   "execution_count": 4,
   "id": "a7dbb02b",
   "metadata": {},
   "outputs": [
    {
     "ename": "NameError",
     "evalue": "name 'my_var' is not defined",
     "output_type": "error",
     "traceback": [
      "\u001b[1;31m---------------------------------------------------------------------------\u001b[0m",
      "\u001b[1;31mNameError\u001b[0m                                 Traceback (most recent call last)",
      "\u001b[1;32m~\\AppData\\Local\\Temp\\ipykernel_6600\\1705191628.py\u001b[0m in \u001b[0;36m<module>\u001b[1;34m\u001b[0m\n\u001b[0;32m      1\u001b[0m \u001b[1;31m#Não podemos utilizar uma variável que não foi definida. Leia a mensagem de erro\u001b[0m\u001b[1;33m\u001b[0m\u001b[1;33m\u001b[0m\u001b[0m\n\u001b[1;32m----> 2\u001b[1;33m \u001b[0mmy_var\u001b[0m\u001b[1;33m\u001b[0m\u001b[1;33m\u001b[0m\u001b[0m\n\u001b[0m",
      "\u001b[1;31mNameError\u001b[0m: name 'my_var' is not defined"
     ]
    }
   ],
   "source": [
    "#Não podemos utilizar uma variável que não foi definida. Leia a mensagem de erro\n",
    "my_var"
   ]
  },
  {
   "cell_type": "code",
   "execution_count": 8,
   "id": "5fd1a374",
   "metadata": {},
   "outputs": [],
   "source": [
    "var_teste = 2"
   ]
  },
  {
   "cell_type": "code",
   "execution_count": 9,
   "id": "8b502cc9",
   "metadata": {},
   "outputs": [
    {
     "data": {
      "text/plain": [
       "2"
      ]
     },
     "execution_count": 9,
     "metadata": {},
     "output_type": "execute_result"
    }
   ],
   "source": [
    "var_teste"
   ]
  },
  {
   "cell_type": "code",
   "execution_count": 10,
   "id": "a9225e69",
   "metadata": {},
   "outputs": [
    {
     "data": {
      "text/plain": [
       "int"
      ]
     },
     "execution_count": 10,
     "metadata": {},
     "output_type": "execute_result"
    }
   ],
   "source": [
    "type(var_teste)"
   ]
  },
  {
   "cell_type": "code",
   "execution_count": 11,
   "id": "658d4ea5",
   "metadata": {},
   "outputs": [],
   "source": [
    "var_teste = 9.5"
   ]
  },
  {
   "cell_type": "code",
   "execution_count": 12,
   "id": "583e157e",
   "metadata": {},
   "outputs": [
    {
     "data": {
      "text/plain": [
       "float"
      ]
     },
     "execution_count": 12,
     "metadata": {},
     "output_type": "execute_result"
    }
   ],
   "source": [
    "type(var_teste)"
   ]
  },
  {
   "cell_type": "code",
   "execution_count": 13,
   "id": "51614eb1",
   "metadata": {},
   "outputs": [],
   "source": [
    "x = 1"
   ]
  },
  {
   "cell_type": "code",
   "execution_count": 14,
   "id": "08eb1452",
   "metadata": {},
   "outputs": [
    {
     "data": {
      "text/plain": [
       "1"
      ]
     },
     "execution_count": 14,
     "metadata": {},
     "output_type": "execute_result"
    }
   ],
   "source": [
    "x"
   ]
  },
  {
   "cell_type": "markdown",
   "id": "2e7ff6b5",
   "metadata": {},
   "source": [
    "Declaração Múltipla"
   ]
  },
  {
   "cell_type": "code",
   "execution_count": 15,
   "id": "e64771cf",
   "metadata": {},
   "outputs": [],
   "source": [
    "pessoa1, pessoa2, pessoa3 = \"Bob\", \"Maria\", \"Ana\""
   ]
  },
  {
   "cell_type": "code",
   "execution_count": 16,
   "id": "9dabb4d6",
   "metadata": {},
   "outputs": [
    {
     "data": {
      "text/plain": [
       "'Bob'"
      ]
     },
     "execution_count": 16,
     "metadata": {},
     "output_type": "execute_result"
    }
   ],
   "source": [
    "pessoa1"
   ]
  },
  {
   "cell_type": "code",
   "execution_count": 17,
   "id": "7c58e11e",
   "metadata": {},
   "outputs": [
    {
     "data": {
      "text/plain": [
       "'Maria'"
      ]
     },
     "execution_count": 17,
     "metadata": {},
     "output_type": "execute_result"
    }
   ],
   "source": [
    "pessoa2"
   ]
  },
  {
   "cell_type": "code",
   "execution_count": 18,
   "id": "afdaafb8",
   "metadata": {},
   "outputs": [
    {
     "data": {
      "text/plain": [
       "'Ana'"
      ]
     },
     "execution_count": 18,
     "metadata": {},
     "output_type": "execute_result"
    }
   ],
   "source": [
    "pessoa3"
   ]
  },
  {
   "cell_type": "code",
   "execution_count": 19,
   "id": "51fc8094",
   "metadata": {},
   "outputs": [],
   "source": [
    "fruta1 = fruta2 = fruta3 = \"Melancia\""
   ]
  },
  {
   "cell_type": "code",
   "execution_count": 20,
   "id": "b5573990",
   "metadata": {},
   "outputs": [
    {
     "data": {
      "text/plain": [
       "'Melancia'"
      ]
     },
     "execution_count": 20,
     "metadata": {},
     "output_type": "execute_result"
    }
   ],
   "source": [
    "fruta1"
   ]
  },
  {
   "cell_type": "code",
   "execution_count": 21,
   "id": "6328d517",
   "metadata": {},
   "outputs": [
    {
     "data": {
      "text/plain": [
       "'Melancia'"
      ]
     },
     "execution_count": 21,
     "metadata": {},
     "output_type": "execute_result"
    }
   ],
   "source": [
    "fruta2"
   ]
  },
  {
   "cell_type": "code",
   "execution_count": 22,
   "id": "fef3b35c",
   "metadata": {},
   "outputs": [
    {
     "data": {
      "text/plain": [
       "'Melancia'"
      ]
     },
     "execution_count": 22,
     "metadata": {},
     "output_type": "execute_result"
    }
   ],
   "source": [
    "fruta3"
   ]
  },
  {
   "cell_type": "code",
   "execution_count": 23,
   "id": "21f1d312",
   "metadata": {},
   "outputs": [
    {
     "ename": "NameError",
     "evalue": "name 'Fruta2' is not defined",
     "output_type": "error",
     "traceback": [
      "\u001b[1;31m---------------------------------------------------------------------------\u001b[0m",
      "\u001b[1;31mNameError\u001b[0m                                 Traceback (most recent call last)",
      "\u001b[1;32m~\\AppData\\Local\\Temp\\ipykernel_6600\\1782481958.py\u001b[0m in \u001b[0;36m<module>\u001b[1;34m\u001b[0m\n\u001b[0;32m      1\u001b[0m \u001b[1;31m#Fique atento!! Python é case-sensitive. Criamos a variável fruta2, mas não a variavel Fruta2.\u001b[0m\u001b[1;33m\u001b[0m\u001b[1;33m\u001b[0m\u001b[0m\n\u001b[0;32m      2\u001b[0m \u001b[1;31m#Letras maiúscula e minúsculas tem diferença no nome da vriável\u001b[0m\u001b[1;33m\u001b[0m\u001b[1;33m\u001b[0m\u001b[0m\n\u001b[1;32m----> 3\u001b[1;33m \u001b[0mFruta2\u001b[0m\u001b[1;33m\u001b[0m\u001b[1;33m\u001b[0m\u001b[0m\n\u001b[0m",
      "\u001b[1;31mNameError\u001b[0m: name 'Fruta2' is not defined"
     ]
    }
   ],
   "source": [
    "#Fique atento!! Python é case-sensitive. Criamos a variável fruta2, mas não a variavel Fruta2.\n",
    "#Letras maiúscula e minúsculas tem diferença no nome da vriável\n",
    "Fruta2"
   ]
  },
  {
   "cell_type": "markdown",
   "id": "3baf8777",
   "metadata": {},
   "source": [
    "Pode-ser usar letras, números underline em nome de variável (Mas não pode começar com números)"
   ]
  },
  {
   "cell_type": "code",
   "execution_count": 24,
   "id": "84c71b0b",
   "metadata": {},
   "outputs": [],
   "source": [
    "x1 = 50"
   ]
  },
  {
   "cell_type": "code",
   "execution_count": 25,
   "id": "98b5bccb",
   "metadata": {},
   "outputs": [
    {
     "data": {
      "text/plain": [
       "50"
      ]
     },
     "execution_count": 25,
     "metadata": {},
     "output_type": "execute_result"
    }
   ],
   "source": [
    "x1"
   ]
  },
  {
   "cell_type": "code",
   "execution_count": 26,
   "id": "ec163724",
   "metadata": {},
   "outputs": [
    {
     "ename": "SyntaxError",
     "evalue": "invalid syntax (3260853291.py, line 1)",
     "output_type": "error",
     "traceback": [
      "\u001b[1;36m  File \u001b[1;32m\"C:\\Users\\Alberes\\AppData\\Local\\Temp\\ipykernel_6600\\3260853291.py\"\u001b[1;36m, line \u001b[1;32m1\u001b[0m\n\u001b[1;33m    1X = 20\u001b[0m\n\u001b[1;37m     ^\u001b[0m\n\u001b[1;31mSyntaxError\u001b[0m\u001b[1;31m:\u001b[0m invalid syntax\n"
     ]
    }
   ],
   "source": [
    "1X = 20"
   ]
  },
  {
   "cell_type": "markdown",
   "id": "b7df5cbb",
   "metadata": {},
   "source": [
    "Não se pode usar palavras reservadas como nome de variável"
   ]
  },
  {
   "cell_type": "code",
   "execution_count": null,
   "id": "2dbfa013",
   "metadata": {},
   "outputs": [],
   "source": [
    "..."
   ]
  },
  {
   "cell_type": "markdown",
   "id": "57fbf568",
   "metadata": {},
   "source": [
    "Variáveis Atribuídas a Outras Variáveis e Ordem dos Operadores"
   ]
  },
  {
   "cell_type": "code",
   "execution_count": 27,
   "id": "a9505991",
   "metadata": {},
   "outputs": [],
   "source": [
    "largura = 2"
   ]
  },
  {
   "cell_type": "code",
   "execution_count": 28,
   "id": "1618276e",
   "metadata": {},
   "outputs": [],
   "source": [
    "altura = 4"
   ]
  },
  {
   "cell_type": "code",
   "execution_count": 29,
   "id": "22113dc0",
   "metadata": {},
   "outputs": [],
   "source": [
    "area = largura * altura"
   ]
  },
  {
   "cell_type": "code",
   "execution_count": 30,
   "id": "dcfaa751",
   "metadata": {},
   "outputs": [
    {
     "data": {
      "text/plain": [
       "8"
      ]
     },
     "execution_count": 30,
     "metadata": {},
     "output_type": "execute_result"
    }
   ],
   "source": [
    "area"
   ]
  },
  {
   "cell_type": "code",
   "execution_count": 31,
   "id": "09755403",
   "metadata": {},
   "outputs": [],
   "source": [
    "perimetro = 2 * largura + 2 * altura"
   ]
  },
  {
   "cell_type": "code",
   "execution_count": 32,
   "id": "dfc0dd07",
   "metadata": {},
   "outputs": [
    {
     "data": {
      "text/plain": [
       "12"
      ]
     },
     "execution_count": 32,
     "metadata": {},
     "output_type": "execute_result"
    }
   ],
   "source": [
    "perimetro"
   ]
  },
  {
   "cell_type": "code",
   "execution_count": 33,
   "id": "f6b7aa31",
   "metadata": {},
   "outputs": [],
   "source": [
    "#A ordem dos operadores é a mesma seguida na Matemática\n",
    "perimetro = 2 * (largura + 2) * altura"
   ]
  },
  {
   "cell_type": "code",
   "execution_count": 34,
   "id": "0da20231",
   "metadata": {},
   "outputs": [
    {
     "data": {
      "text/plain": [
       "32"
      ]
     },
     "execution_count": 34,
     "metadata": {},
     "output_type": "execute_result"
    }
   ],
   "source": [
    "perimetro"
   ]
  },
  {
   "cell_type": "markdown",
   "id": "99737411",
   "metadata": {},
   "source": [
    "Operações com variáveis"
   ]
  },
  {
   "cell_type": "code",
   "execution_count": 35,
   "id": "fba2fa35",
   "metadata": {},
   "outputs": [],
   "source": [
    "idade1 = 25"
   ]
  },
  {
   "cell_type": "code",
   "execution_count": 36,
   "id": "a7c7d377",
   "metadata": {},
   "outputs": [],
   "source": [
    "idade2 = 35"
   ]
  },
  {
   "cell_type": "code",
   "execution_count": 37,
   "id": "4f7c9771",
   "metadata": {},
   "outputs": [
    {
     "data": {
      "text/plain": [
       "60"
      ]
     },
     "execution_count": 37,
     "metadata": {},
     "output_type": "execute_result"
    }
   ],
   "source": [
    "idade1 + idade2"
   ]
  },
  {
   "cell_type": "code",
   "execution_count": 38,
   "id": "11b26616",
   "metadata": {},
   "outputs": [
    {
     "data": {
      "text/plain": [
       "10"
      ]
     },
     "execution_count": 38,
     "metadata": {},
     "output_type": "execute_result"
    }
   ],
   "source": [
    "idade2 - idade1"
   ]
  },
  {
   "cell_type": "code",
   "execution_count": 39,
   "id": "4c024fb4",
   "metadata": {},
   "outputs": [
    {
     "data": {
      "text/plain": [
       "875"
      ]
     },
     "execution_count": 39,
     "metadata": {},
     "output_type": "execute_result"
    }
   ],
   "source": [
    "idade2 * idade1"
   ]
  },
  {
   "cell_type": "code",
   "execution_count": 40,
   "id": "29269004",
   "metadata": {},
   "outputs": [
    {
     "data": {
      "text/plain": [
       "1.4"
      ]
     },
     "execution_count": 40,
     "metadata": {},
     "output_type": "execute_result"
    }
   ],
   "source": [
    "idade2 / idade1"
   ]
  },
  {
   "cell_type": "code",
   "execution_count": 41,
   "id": "456ea1ed",
   "metadata": {},
   "outputs": [
    {
     "data": {
      "text/plain": [
       "10"
      ]
     },
     "execution_count": 41,
     "metadata": {},
     "output_type": "execute_result"
    }
   ],
   "source": [
    "idade2 % idade1"
   ]
  },
  {
   "cell_type": "markdown",
   "id": "df5bfb59",
   "metadata": {},
   "source": [
    "Concatenação de variáveis"
   ]
  },
  {
   "cell_type": "code",
   "execution_count": 42,
   "id": "bd56135f",
   "metadata": {},
   "outputs": [],
   "source": [
    "nome = \"Bob\""
   ]
  },
  {
   "cell_type": "code",
   "execution_count": 43,
   "id": "3dc87f2f",
   "metadata": {},
   "outputs": [],
   "source": [
    "sobrenome = \"Marley\""
   ]
  },
  {
   "cell_type": "code",
   "execution_count": 44,
   "id": "f86d4267",
   "metadata": {},
   "outputs": [],
   "source": [
    "fullName = nome + \" \" + sobrenome"
   ]
  },
  {
   "cell_type": "code",
   "execution_count": 45,
   "id": "f55db346",
   "metadata": {},
   "outputs": [
    {
     "data": {
      "text/plain": [
       "'Bob Marley'"
      ]
     },
     "execution_count": 45,
     "metadata": {},
     "output_type": "execute_result"
    }
   ],
   "source": [
    "fullName"
   ]
  },
  {
   "cell_type": "markdown",
   "id": "59759304",
   "metadata": {},
   "source": [
    "**Fim**"
   ]
  }
 ],
 "metadata": {
  "kernelspec": {
   "display_name": "Python 3 (ipykernel)",
   "language": "python",
   "name": "python3"
  },
  "language_info": {
   "codemirror_mode": {
    "name": "ipython",
    "version": 3
   },
   "file_extension": ".py",
   "mimetype": "text/x-python",
   "name": "python",
   "nbconvert_exporter": "python",
   "pygments_lexer": "ipython3",
   "version": "3.9.13"
  }
 },
 "nbformat": 4,
 "nbformat_minor": 5
}
